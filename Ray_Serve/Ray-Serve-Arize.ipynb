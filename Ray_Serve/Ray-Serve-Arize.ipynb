{
 "cells": [
  {
   "cell_type": "code",
   "execution_count": null,
   "id": "da252e8b-4764-4361-82f6-7d0f8074953e",
   "metadata": {},
   "outputs": [],
   "source": [
    "# pip install \"ray[default,air,serve]\" lingua-language-detector 'transformers[torch]==4.27' numpy==1.24.2 sentencepiece"
   ]
  },
  {
   "cell_type": "code",
   "execution_count": null,
   "id": "c621f7d7-6132-497a-bce0-3ed6f91284cd",
   "metadata": {},
   "outputs": [],
   "source": []
  }
 ],
 "metadata": {
  "kernelspec": {
   "display_name": "Python 3 (ipykernel)",
   "language": "python",
   "name": "python3"
  },
  "language_info": {
   "codemirror_mode": {
    "name": "ipython",
    "version": 3
   },
   "file_extension": ".py",
   "mimetype": "text/x-python",
   "name": "python",
   "nbconvert_exporter": "python",
   "pygments_lexer": "ipython3",
   "version": "3.9.16"
  }
 },
 "nbformat": 4,
 "nbformat_minor": 5
}
